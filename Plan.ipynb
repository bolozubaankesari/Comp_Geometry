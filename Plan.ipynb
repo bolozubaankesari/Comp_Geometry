{
 "cells": [
  {
   "cell_type": "markdown",
   "metadata": {},
   "source": [
    "## Week 1\n",
    "\n",
    "### Image Importing and Acquisition\n",
    " - Basic representation and viewing\n",
    "\n",
    "### Image analysing and manipulating\n",
    " - Image colour flip (negative)\n",
    " - Colour conversion from RGB to grayscale\n",
    " - Image cropping\n",
    " - Scaling\n",
    "   - Downscaling through pixel binning (keyword: moving window)\n",
    "\n",
    "### A bit advanced\n",
    " - Scaling\n",
    "   - Upscaling through interpolation (keyword: nearest neighbour)\n",
    " - Blurring\n",
    " - Creating borders\n",
    " - Thresholding\n",
    " \n",
    " ## Week 2: Using OpenCV\n",
    "\n",
    " - Installing OpenCV (preferably in Anaconda)\n",
    " - Read, display, write, save\n",
    " - Image resizing, blurring, eroding\n",
    " - Creating borders, grayscaling\n",
    " \n",
    " ## Week 3: Continuing with OpenCV\n",
    "\n",
    " - Scaling, rotating and translating\n",
    " - Histogram analysis and equalisation\n",
    " - Simple thresholding\n",
    " - Otsu thresholding\n",
    " \n",
    " ## Week 4: Bordering Computer Vision\n",
    "\n",
    " - Sobel and Canny edge detection\n",
    " - Exploring Structure from Motion and setting up a platform\n",
    "   - This will give you access to 3D point clouds without having to go through the pain to set them up\n",
    "   - https://github.com/mapillary/OpenSfM , http://ccwu.me/vsfm/ are examples\n",
    "   - To circumvent this is to look up for open source point clouds resources (they exist) and use them directly.\n",
    " - 3D geometric algorithms on point cloud"
   ]
  },
  {
   "cell_type": "code",
   "execution_count": null,
   "metadata": {},
   "outputs": [],
   "source": []
  }
 ],
 "metadata": {
  "kernelspec": {
   "display_name": "Python 3",
   "language": "python",
   "name": "python3"
  },
  "language_info": {
   "codemirror_mode": {
    "name": "ipython",
    "version": 3
   },
   "file_extension": ".py",
   "mimetype": "text/x-python",
   "name": "python",
   "nbconvert_exporter": "python",
   "pygments_lexer": "ipython3",
   "version": "3.8.5"
  }
 },
 "nbformat": 4,
 "nbformat_minor": 4
}
